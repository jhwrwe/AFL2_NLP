{
 "cells": [
  {
   "cell_type": "code",
   "execution_count": null,
   "id": "49f13e16-20fb-44bd-a181-1ac9315c7f1f",
   "metadata": {},
   "outputs": [],
   "source": []
  }
 ],
 "metadata": {
  "kernelspec": {
   "display_name": "",
   "name": ""
  },
  "language_info": {
   "name": ""
  }
 },
 "nbformat": 4,
 "nbformat_minor": 5
}
